{
 "cells": [
  {
   "cell_type": "markdown",
   "id": "deb767c8",
   "metadata": {},
   "source": [
    "   # WEEK_12.  "
   ]
  },
  {
   "cell_type": "code",
   "execution_count": 283,
   "id": "717be317",
   "metadata": {},
   "outputs": [],
   "source": [
    "import numpy as npy\n",
    "import pandas as pan\n",
    "import matplotlib.pyplot as matplt\n",
    "import seaborn as sea\n",
    "from IPython.core.display import display\n",
    "from sklearn import preprocessing\n",
    "from sklearn.ensemble import RandomForestClassifier\n",
    "from sklearn.preprocessing import StandardScaler\n",
    "from sklearn.model_selection import train_test_split\n",
    "from sklearn.metrics import roc_auc_score, roc_curve\n",
    "from sklearn.model_selection import KFold, StratifiedKFold\n",
    "from lightgbm import LGBMClassifier\n",
    "from sklearn.model_selection import cross_val_score, cross_val_predict\n",
    "from sklearn.metrics import accuracy_score, classification_report, confusion_matrix\n",
    "from imblearn.over_sampling import SMOTE\n",
    "from sklearn.linear_model import LogisticRegression"
   ]
  },
  {
   "cell_type": "code",
   "execution_count": 284,
   "id": "b47e57fb",
   "metadata": {},
   "outputs": [],
   "source": [
    "full_bank = pan.read_csv('bank-full.csv', sep = ';')"
   ]
  },
  {
   "cell_type": "code",
   "execution_count": 285,
   "id": "fdfb039d",
   "metadata": {},
   "outputs": [
    {
     "name": "stdout",
     "output_type": "stream",
     "text": [
      "<class 'pandas.core.frame.DataFrame'>\n",
      "RangeIndex: 45211 entries, 0 to 45210\n",
      "Data columns (total 17 columns):\n",
      " #   Column     Non-Null Count  Dtype \n",
      "---  ------     --------------  ----- \n",
      " 0   age        45211 non-null  int64 \n",
      " 1   job        45211 non-null  object\n",
      " 2   marital    45211 non-null  object\n",
      " 3   education  45211 non-null  object\n",
      " 4   default    45211 non-null  object\n",
      " 5   balance    45211 non-null  int64 \n",
      " 6   housing    45211 non-null  object\n",
      " 7   loan       45211 non-null  object\n",
      " 8   contact    45211 non-null  object\n",
      " 9   day        45211 non-null  int64 \n",
      " 10  month      45211 non-null  object\n",
      " 11  duration   45211 non-null  int64 \n",
      " 12  campaign   45211 non-null  int64 \n",
      " 13  pdays      45211 non-null  int64 \n",
      " 14  previous   45211 non-null  int64 \n",
      " 15  poutcome   45211 non-null  object\n",
      " 16  y          45211 non-null  object\n",
      "dtypes: int64(7), object(10)\n",
      "memory usage: 5.9+ MB\n"
     ]
    }
   ],
   "source": [
    "full_bank.info(\n",
    ")"
   ]
  },
  {
   "cell_type": "code",
   "execution_count": 286,
   "id": "86616d9f",
   "metadata": {},
   "outputs": [
    {
     "data": {
      "text/plain": "   age           job  marital  education default  balance housing loan  \\\n0   58    management  married   tertiary      no     2143     yes   no   \n1   44    technician   single  secondary      no       29     yes   no   \n2   33  entrepreneur  married  secondary      no        2     yes  yes   \n3   47   blue-collar  married    unknown      no     1506     yes   no   \n4   33       unknown   single    unknown      no        1      no   no   \n\n   contact  day month  duration  campaign  pdays  previous poutcome   y  \n0  unknown    5   may       261         1     -1         0  unknown  no  \n1  unknown    5   may       151         1     -1         0  unknown  no  \n2  unknown    5   may        76         1     -1         0  unknown  no  \n3  unknown    5   may        92         1     -1         0  unknown  no  \n4  unknown    5   may       198         1     -1         0  unknown  no  ",
      "text/html": "<div>\n<style scoped>\n    .dataframe tbody tr th:only-of-type {\n        vertical-align: middle;\n    }\n\n    .dataframe tbody tr th {\n        vertical-align: top;\n    }\n\n    .dataframe thead th {\n        text-align: right;\n    }\n</style>\n<table border=\"1\" class=\"dataframe\">\n  <thead>\n    <tr style=\"text-align: right;\">\n      <th></th>\n      <th>age</th>\n      <th>job</th>\n      <th>marital</th>\n      <th>education</th>\n      <th>default</th>\n      <th>balance</th>\n      <th>housing</th>\n      <th>loan</th>\n      <th>contact</th>\n      <th>day</th>\n      <th>month</th>\n      <th>duration</th>\n      <th>campaign</th>\n      <th>pdays</th>\n      <th>previous</th>\n      <th>poutcome</th>\n      <th>y</th>\n    </tr>\n  </thead>\n  <tbody>\n    <tr>\n      <th>0</th>\n      <td>58</td>\n      <td>management</td>\n      <td>married</td>\n      <td>tertiary</td>\n      <td>no</td>\n      <td>2143</td>\n      <td>yes</td>\n      <td>no</td>\n      <td>unknown</td>\n      <td>5</td>\n      <td>may</td>\n      <td>261</td>\n      <td>1</td>\n      <td>-1</td>\n      <td>0</td>\n      <td>unknown</td>\n      <td>no</td>\n    </tr>\n    <tr>\n      <th>1</th>\n      <td>44</td>\n      <td>technician</td>\n      <td>single</td>\n      <td>secondary</td>\n      <td>no</td>\n      <td>29</td>\n      <td>yes</td>\n      <td>no</td>\n      <td>unknown</td>\n      <td>5</td>\n      <td>may</td>\n      <td>151</td>\n      <td>1</td>\n      <td>-1</td>\n      <td>0</td>\n      <td>unknown</td>\n      <td>no</td>\n    </tr>\n    <tr>\n      <th>2</th>\n      <td>33</td>\n      <td>entrepreneur</td>\n      <td>married</td>\n      <td>secondary</td>\n      <td>no</td>\n      <td>2</td>\n      <td>yes</td>\n      <td>yes</td>\n      <td>unknown</td>\n      <td>5</td>\n      <td>may</td>\n      <td>76</td>\n      <td>1</td>\n      <td>-1</td>\n      <td>0</td>\n      <td>unknown</td>\n      <td>no</td>\n    </tr>\n    <tr>\n      <th>3</th>\n      <td>47</td>\n      <td>blue-collar</td>\n      <td>married</td>\n      <td>unknown</td>\n      <td>no</td>\n      <td>1506</td>\n      <td>yes</td>\n      <td>no</td>\n      <td>unknown</td>\n      <td>5</td>\n      <td>may</td>\n      <td>92</td>\n      <td>1</td>\n      <td>-1</td>\n      <td>0</td>\n      <td>unknown</td>\n      <td>no</td>\n    </tr>\n    <tr>\n      <th>4</th>\n      <td>33</td>\n      <td>unknown</td>\n      <td>single</td>\n      <td>unknown</td>\n      <td>no</td>\n      <td>1</td>\n      <td>no</td>\n      <td>no</td>\n      <td>unknown</td>\n      <td>5</td>\n      <td>may</td>\n      <td>198</td>\n      <td>1</td>\n      <td>-1</td>\n      <td>0</td>\n      <td>unknown</td>\n      <td>no</td>\n    </tr>\n  </tbody>\n</table>\n</div>"
     },
     "execution_count": 286,
     "metadata": {},
     "output_type": "execute_result"
    }
   ],
   "source": [
    "full_bank.head()"
   ]
  },
  {
   "cell_type": "code",
   "execution_count": 287,
   "id": "559ab62e",
   "metadata": {
    "pycharm": {
     "name": "#%%\n"
    }
   },
   "outputs": [
    {
     "name": "stdout",
     "output_type": "stream",
     "text": [
      "<class 'pandas.core.frame.DataFrame'>\n",
      "RangeIndex: 45211 entries, 0 to 45210\n",
      "Data columns (total 17 columns):\n",
      " #   Column     Non-Null Count  Dtype \n",
      "---  ------     --------------  ----- \n",
      " 0   age        45211 non-null  int64 \n",
      " 1   job        45211 non-null  object\n",
      " 2   marital    45211 non-null  object\n",
      " 3   education  45211 non-null  object\n",
      " 4   default    45211 non-null  object\n",
      " 5   balance    45211 non-null  int64 \n",
      " 6   housing    45211 non-null  object\n",
      " 7   loan       45211 non-null  object\n",
      " 8   contact    45211 non-null  object\n",
      " 9   day        45211 non-null  int64 \n",
      " 10  month      45211 non-null  object\n",
      " 11  duration   45211 non-null  int64 \n",
      " 12  campaign   45211 non-null  int64 \n",
      " 13  pdays      45211 non-null  int64 \n",
      " 14  previous   45211 non-null  int64 \n",
      " 15  poutcome   45211 non-null  object\n",
      " 16  y          45211 non-null  object\n",
      "dtypes: int64(7), object(10)\n",
      "memory usage: 5.9+ MB\n"
     ]
    }
   ],
   "source": [
    "full_bank['default'] = full_bank['default'].astype(object)\n",
    "full_bank['housing'] = full_bank['housing'].astype(object)\n",
    "full_bank['loan'] = full_bank['loan'].astype(object)\n",
    "full_bank.info()"
   ]
  },
  {
   "cell_type": "code",
   "execution_count": 288,
   "id": "c6b528e5",
   "metadata": {},
   "outputs": [
    {
     "data": {
      "text/plain": "(45211, 17)"
     },
     "execution_count": 288,
     "metadata": {},
     "output_type": "execute_result"
    }
   ],
   "source": [
    "full_bank.shape"
   ]
  },
  {
   "cell_type": "code",
   "execution_count": 289,
   "id": "996d4594",
   "metadata": {},
   "outputs": [
    {
     "data": {
      "text/plain": "       age           job   marital  education default  balance housing loan  \\\n0       58    management   married   tertiary      no     2143     yes   no   \n1       44    technician    single  secondary      no       29     yes   no   \n2       33  entrepreneur   married  secondary      no        2     yes  yes   \n3       47   blue-collar   married    unknown      no     1506     yes   no   \n4       33       unknown    single    unknown      no        1      no   no   \n...    ...           ...       ...        ...     ...      ...     ...  ...   \n45206   51    technician   married   tertiary      no      825      no   no   \n45207   71       retired  divorced    primary      no     1729      no   no   \n45208   72       retired   married  secondary      no     5715      no   no   \n45209   57   blue-collar   married  secondary      no      668      no   no   \n45210   37  entrepreneur   married  secondary      no     2971      no   no   \n\n         contact  day month  duration  campaign  pdays  previous poutcome    y  \n0        unknown    5   may       261         1     -1         0  unknown   no  \n1        unknown    5   may       151         1     -1         0  unknown   no  \n2        unknown    5   may        76         1     -1         0  unknown   no  \n3        unknown    5   may        92         1     -1         0  unknown   no  \n4        unknown    5   may       198         1     -1         0  unknown   no  \n...          ...  ...   ...       ...       ...    ...       ...      ...  ...  \n45206   cellular   17   nov       977         3     -1         0  unknown  yes  \n45207   cellular   17   nov       456         2     -1         0  unknown  yes  \n45208   cellular   17   nov      1127         5    184         3  success  yes  \n45209  telephone   17   nov       508         4     -1         0  unknown   no  \n45210   cellular   17   nov       361         2    188        11    other   no  \n\n[45211 rows x 17 columns]",
      "text/html": "<div>\n<style scoped>\n    .dataframe tbody tr th:only-of-type {\n        vertical-align: middle;\n    }\n\n    .dataframe tbody tr th {\n        vertical-align: top;\n    }\n\n    .dataframe thead th {\n        text-align: right;\n    }\n</style>\n<table border=\"1\" class=\"dataframe\">\n  <thead>\n    <tr style=\"text-align: right;\">\n      <th></th>\n      <th>age</th>\n      <th>job</th>\n      <th>marital</th>\n      <th>education</th>\n      <th>default</th>\n      <th>balance</th>\n      <th>housing</th>\n      <th>loan</th>\n      <th>contact</th>\n      <th>day</th>\n      <th>month</th>\n      <th>duration</th>\n      <th>campaign</th>\n      <th>pdays</th>\n      <th>previous</th>\n      <th>poutcome</th>\n      <th>y</th>\n    </tr>\n  </thead>\n  <tbody>\n    <tr>\n      <th>0</th>\n      <td>58</td>\n      <td>management</td>\n      <td>married</td>\n      <td>tertiary</td>\n      <td>no</td>\n      <td>2143</td>\n      <td>yes</td>\n      <td>no</td>\n      <td>unknown</td>\n      <td>5</td>\n      <td>may</td>\n      <td>261</td>\n      <td>1</td>\n      <td>-1</td>\n      <td>0</td>\n      <td>unknown</td>\n      <td>no</td>\n    </tr>\n    <tr>\n      <th>1</th>\n      <td>44</td>\n      <td>technician</td>\n      <td>single</td>\n      <td>secondary</td>\n      <td>no</td>\n      <td>29</td>\n      <td>yes</td>\n      <td>no</td>\n      <td>unknown</td>\n      <td>5</td>\n      <td>may</td>\n      <td>151</td>\n      <td>1</td>\n      <td>-1</td>\n      <td>0</td>\n      <td>unknown</td>\n      <td>no</td>\n    </tr>\n    <tr>\n      <th>2</th>\n      <td>33</td>\n      <td>entrepreneur</td>\n      <td>married</td>\n      <td>secondary</td>\n      <td>no</td>\n      <td>2</td>\n      <td>yes</td>\n      <td>yes</td>\n      <td>unknown</td>\n      <td>5</td>\n      <td>may</td>\n      <td>76</td>\n      <td>1</td>\n      <td>-1</td>\n      <td>0</td>\n      <td>unknown</td>\n      <td>no</td>\n    </tr>\n    <tr>\n      <th>3</th>\n      <td>47</td>\n      <td>blue-collar</td>\n      <td>married</td>\n      <td>unknown</td>\n      <td>no</td>\n      <td>1506</td>\n      <td>yes</td>\n      <td>no</td>\n      <td>unknown</td>\n      <td>5</td>\n      <td>may</td>\n      <td>92</td>\n      <td>1</td>\n      <td>-1</td>\n      <td>0</td>\n      <td>unknown</td>\n      <td>no</td>\n    </tr>\n    <tr>\n      <th>4</th>\n      <td>33</td>\n      <td>unknown</td>\n      <td>single</td>\n      <td>unknown</td>\n      <td>no</td>\n      <td>1</td>\n      <td>no</td>\n      <td>no</td>\n      <td>unknown</td>\n      <td>5</td>\n      <td>may</td>\n      <td>198</td>\n      <td>1</td>\n      <td>-1</td>\n      <td>0</td>\n      <td>unknown</td>\n      <td>no</td>\n    </tr>\n    <tr>\n      <th>...</th>\n      <td>...</td>\n      <td>...</td>\n      <td>...</td>\n      <td>...</td>\n      <td>...</td>\n      <td>...</td>\n      <td>...</td>\n      <td>...</td>\n      <td>...</td>\n      <td>...</td>\n      <td>...</td>\n      <td>...</td>\n      <td>...</td>\n      <td>...</td>\n      <td>...</td>\n      <td>...</td>\n      <td>...</td>\n    </tr>\n    <tr>\n      <th>45206</th>\n      <td>51</td>\n      <td>technician</td>\n      <td>married</td>\n      <td>tertiary</td>\n      <td>no</td>\n      <td>825</td>\n      <td>no</td>\n      <td>no</td>\n      <td>cellular</td>\n      <td>17</td>\n      <td>nov</td>\n      <td>977</td>\n      <td>3</td>\n      <td>-1</td>\n      <td>0</td>\n      <td>unknown</td>\n      <td>yes</td>\n    </tr>\n    <tr>\n      <th>45207</th>\n      <td>71</td>\n      <td>retired</td>\n      <td>divorced</td>\n      <td>primary</td>\n      <td>no</td>\n      <td>1729</td>\n      <td>no</td>\n      <td>no</td>\n      <td>cellular</td>\n      <td>17</td>\n      <td>nov</td>\n      <td>456</td>\n      <td>2</td>\n      <td>-1</td>\n      <td>0</td>\n      <td>unknown</td>\n      <td>yes</td>\n    </tr>\n    <tr>\n      <th>45208</th>\n      <td>72</td>\n      <td>retired</td>\n      <td>married</td>\n      <td>secondary</td>\n      <td>no</td>\n      <td>5715</td>\n      <td>no</td>\n      <td>no</td>\n      <td>cellular</td>\n      <td>17</td>\n      <td>nov</td>\n      <td>1127</td>\n      <td>5</td>\n      <td>184</td>\n      <td>3</td>\n      <td>success</td>\n      <td>yes</td>\n    </tr>\n    <tr>\n      <th>45209</th>\n      <td>57</td>\n      <td>blue-collar</td>\n      <td>married</td>\n      <td>secondary</td>\n      <td>no</td>\n      <td>668</td>\n      <td>no</td>\n      <td>no</td>\n      <td>telephone</td>\n      <td>17</td>\n      <td>nov</td>\n      <td>508</td>\n      <td>4</td>\n      <td>-1</td>\n      <td>0</td>\n      <td>unknown</td>\n      <td>no</td>\n    </tr>\n    <tr>\n      <th>45210</th>\n      <td>37</td>\n      <td>entrepreneur</td>\n      <td>married</td>\n      <td>secondary</td>\n      <td>no</td>\n      <td>2971</td>\n      <td>no</td>\n      <td>no</td>\n      <td>cellular</td>\n      <td>17</td>\n      <td>nov</td>\n      <td>361</td>\n      <td>2</td>\n      <td>188</td>\n      <td>11</td>\n      <td>other</td>\n      <td>no</td>\n    </tr>\n  </tbody>\n</table>\n<p>45211 rows × 17 columns</p>\n</div>"
     },
     "execution_count": 289,
     "metadata": {},
     "output_type": "execute_result"
    }
   ],
   "source": [
    "full_bank.dropna()"
   ]
  },
  {
   "cell_type": "code",
   "execution_count": 290,
   "id": "8e7620c9",
   "metadata": {},
   "outputs": [
    {
     "data": {
      "text/plain": "array([[<AxesSubplot:title={'center':'age'}>,\n        <AxesSubplot:title={'center':'balance'}>,\n        <AxesSubplot:title={'center':'day'}>],\n       [<AxesSubplot:title={'center':'duration'}>,\n        <AxesSubplot:title={'center':'campaign'}>,\n        <AxesSubplot:title={'center':'pdays'}>],\n       [<AxesSubplot:title={'center':'previous'}>, <AxesSubplot:>,\n        <AxesSubplot:>]], dtype=object)"
     },
     "execution_count": 290,
     "metadata": {},
     "output_type": "execute_result"
    },
    {
     "data": {
      "text/plain": "<Figure size 432x288 with 9 Axes>",
      "image/png": "[encoded data removed]"
     },
     "metadata": {
      "needs_background": "light"
     },
     "output_type": "display_data"
    }
   ],
   "source": [
    "full_bank.hist()"
   ]
  },
  {
   "cell_type": "code",
   "execution_count": 291,
   "id": "fae90833",
   "metadata": {},
   "outputs": [
    {
     "data": {
      "text/plain": "       age           job   marital  education default  balance housing loan  \\\n0       58    management   married   tertiary      no     2143     yes   no   \n1       44    technician    single  secondary      no       29     yes   no   \n2       33  entrepreneur   married  secondary      no        2     yes  yes   \n3       47   blue-collar   married    unknown      no     1506     yes   no   \n4       33       unknown    single    unknown      no        1      no   no   \n...    ...           ...       ...        ...     ...      ...     ...  ...   \n45206   51    technician   married   tertiary      no      825      no   no   \n45207   71       retired  divorced    primary      no     1729      no   no   \n45208   72       retired   married  secondary      no     5715      no   no   \n45209   57   blue-collar   married  secondary      no      668      no   no   \n45210   37  entrepreneur   married  secondary      no     2971      no   no   \n\n         contact  day month  duration  campaign  pdays  previous poutcome    y  \n0        unknown    5   may       261         1     -1         0  unknown   no  \n1        unknown    5   may       151         1     -1         0  unknown   no  \n2        unknown    5   may        76         1     -1         0  unknown   no  \n3        unknown    5   may        92         1     -1         0  unknown   no  \n4        unknown    5   may       198         1     -1         0  unknown   no  \n...          ...  ...   ...       ...       ...    ...       ...      ...  ...  \n45206   cellular   17   nov       977         3     -1         0  unknown  yes  \n45207   cellular   17   nov       456         2     -1         0  unknown  yes  \n45208   cellular   17   nov      1127         5    184         3  success  yes  \n45209  telephone   17   nov       508         4     -1         0  unknown   no  \n45210   cellular   17   nov       361         2    188        11    other   no  \n\n[45211 rows x 17 columns]",
      "text/html": "<div>\n<style scoped>\n    .dataframe tbody tr th:only-of-type {\n        vertical-align: middle;\n    }\n\n    .dataframe tbody tr th {\n        vertical-align: top;\n    }\n\n    .dataframe thead th {\n        text-align: right;\n    }\n</style>\n<table border=\"1\" class=\"dataframe\">\n  <thead>\n    <tr style=\"text-align: right;\">\n      <th></th>\n      <th>age</th>\n      <th>job</th>\n      <th>marital</th>\n      <th>education</th>\n      <th>default</th>\n      <th>balance</th>\n      <th>housing</th>\n      <th>loan</th>\n      <th>contact</th>\n      <th>day</th>\n      <th>month</th>\n      <th>duration</th>\n      <th>campaign</th>\n      <th>pdays</th>\n      <th>previous</th>\n      <th>poutcome</th>\n      <th>y</th>\n    </tr>\n  </thead>\n  <tbody>\n    <tr>\n      <th>0</th>\n      <td>58</td>\n      <td>management</td>\n      <td>married</td>\n      <td>tertiary</td>\n      <td>no</td>\n      <td>2143</td>\n      <td>yes</td>\n      <td>no</td>\n      <td>unknown</td>\n      <td>5</td>\n      <td>may</td>\n      <td>261</td>\n      <td>1</td>\n      <td>-1</td>\n      <td>0</td>\n      <td>unknown</td>\n      <td>no</td>\n    </tr>\n    <tr>\n      <th>1</th>\n      <td>44</td>\n      <td>technician</td>\n      <td>single</td>\n      <td>secondary</td>\n      <td>no</td>\n      <td>29</td>\n      <td>yes</td>\n      <td>no</td>\n      <td>unknown</td>\n      <td>5</td>\n      <td>may</td>\n      <td>151</td>\n      <td>1</td>\n      <td>-1</td>\n      <td>0</td>\n      <td>unknown</td>\n      <td>no</td>\n    </tr>\n    <tr>\n      <th>2</th>\n      <td>33</td>\n      <td>entrepreneur</td>\n      <td>married</td>\n      <td>secondary</td>\n      <td>no</td>\n      <td>2</td>\n      <td>yes</td>\n      <td>yes</td>\n      <td>unknown</td>\n      <td>5</td>\n      <td>may</td>\n      <td>76</td>\n      <td>1</td>\n      <td>-1</td>\n      <td>0</td>\n      <td>unknown</td>\n      <td>no</td>\n    </tr>\n    <tr>\n      <th>3</th>\n      <td>47</td>\n      <td>blue-collar</td>\n      <td>married</td>\n      <td>unknown</td>\n      <td>no</td>\n      <td>1506</td>\n      <td>yes</td>\n      <td>no</td>\n      <td>unknown</td>\n      <td>5</td>\n      <td>may</td>\n      <td>92</td>\n      <td>1</td>\n      <td>-1</td>\n      <td>0</td>\n      <td>unknown</td>\n      <td>no</td>\n    </tr>\n    <tr>\n      <th>4</th>\n      <td>33</td>\n      <td>unknown</td>\n      <td>single</td>\n      <td>unknown</td>\n      <td>no</td>\n      <td>1</td>\n      <td>no</td>\n      <td>no</td>\n      <td>unknown</td>\n      <td>5</td>\n      <td>may</td>\n      <td>198</td>\n      <td>1</td>\n      <td>-1</td>\n      <td>0</td>\n      <td>unknown</td>\n      <td>no</td>\n    </tr>\n    <tr>\n      <th>...</th>\n      <td>...</td>\n      <td>...</td>\n      <td>...</td>\n      <td>...</td>\n      <td>...</td>\n      <td>...</td>\n      <td>...</td>\n      <td>...</td>\n      <td>...</td>\n      <td>...</td>\n      <td>...</td>\n      <td>...</td>\n      <td>...</td>\n      <td>...</td>\n      <td>...</td>\n      <td>...</td>\n      <td>...</td>\n    </tr>\n    <tr>\n      <th>45206</th>\n      <td>51</td>\n      <td>technician</td>\n      <td>married</td>\n      <td>tertiary</td>\n      <td>no</td>\n      <td>825</td>\n      <td>no</td>\n      <td>no</td>\n      <td>cellular</td>\n      <td>17</td>\n      <td>nov</td>\n      <td>977</td>\n      <td>3</td>\n      <td>-1</td>\n      <td>0</td>\n      <td>unknown</td>\n      <td>yes</td>\n    </tr>\n    <tr>\n      <th>45207</th>\n      <td>71</td>\n      <td>retired</td>\n      <td>divorced</td>\n      <td>primary</td>\n      <td>no</td>\n      <td>1729</td>\n      <td>no</td>\n      <td>no</td>\n      <td>cellular</td>\n      <td>17</td>\n      <td>nov</td>\n      <td>456</td>\n      <td>2</td>\n      <td>-1</td>\n      <td>0</td>\n      <td>unknown</td>\n      <td>yes</td>\n    </tr>\n    <tr>\n      <th>45208</th>\n      <td>72</td>\n      <td>retired</td>\n      <td>married</td>\n      <td>secondary</td>\n      <td>no</td>\n      <td>5715</td>\n      <td>no</td>\n      <td>no</td>\n      <td>cellular</td>\n      <td>17</td>\n      <td>nov</td>\n      <td>1127</td>\n      <td>5</td>\n      <td>184</td>\n      <td>3</td>\n      <td>success</td>\n      <td>yes</td>\n    </tr>\n    <tr>\n      <th>45209</th>\n      <td>57</td>\n      <td>blue-collar</td>\n      <td>married</td>\n      <td>secondary</td>\n      <td>no</td>\n      <td>668</td>\n      <td>no</td>\n      <td>no</td>\n      <td>telephone</td>\n      <td>17</td>\n      <td>nov</td>\n      <td>508</td>\n      <td>4</td>\n      <td>-1</td>\n      <td>0</td>\n      <td>unknown</td>\n      <td>no</td>\n    </tr>\n    <tr>\n      <th>45210</th>\n      <td>37</td>\n      <td>entrepreneur</td>\n      <td>married</td>\n      <td>secondary</td>\n      <td>no</td>\n      <td>2971</td>\n      <td>no</td>\n      <td>no</td>\n      <td>cellular</td>\n      <td>17</td>\n      <td>nov</td>\n      <td>361</td>\n      <td>2</td>\n      <td>188</td>\n      <td>11</td>\n      <td>other</td>\n      <td>no</td>\n    </tr>\n  </tbody>\n</table>\n<p>45211 rows × 17 columns</p>\n</div>"
     },
     "execution_count": 291,
     "metadata": {},
     "output_type": "execute_result"
    }
   ],
   "source": [
    "full_bank.drop_duplicates()"
   ]
  },
  {
   "cell_type": "code",
   "execution_count": 292,
   "id": "615b4825",
   "metadata": {
    "pycharm": {
     "name": "#%%\n"
    }
   },
   "outputs": [
    {
     "data": {
      "text/plain": "                age        balance           day      duration      campaign  \\\ncount  45211.000000   45211.000000  45211.000000  45211.000000  45211.000000   \nmean      40.936210    1362.272058     15.806419    258.163080      2.763841   \nstd       10.618762    3044.765829      8.322476    257.527812      3.098021   \nmin       18.000000   -8019.000000      1.000000      0.000000      1.000000   \n25%       33.000000      72.000000      8.000000    103.000000      1.000000   \n50%       39.000000     448.000000     16.000000    180.000000      2.000000   \n75%       48.000000    1428.000000     21.000000    319.000000      3.000000   \nmax       95.000000  102127.000000     31.000000   4918.000000     63.000000   \n\n              pdays      previous  \ncount  45211.000000  45211.000000  \nmean      40.197828      0.580323  \nstd      100.128746      2.303441  \nmin       -1.000000      0.000000  \n25%       -1.000000      0.000000  \n50%       -1.000000      0.000000  \n75%       -1.000000      0.000000  \nmax      871.000000    275.000000  ",
      "text/html": "<div>\n<style scoped>\n    .dataframe tbody tr th:only-of-type {\n        vertical-align: middle;\n    }\n\n    .dataframe tbody tr th {\n        vertical-align: top;\n    }\n\n    .dataframe thead th {\n        text-align: right;\n    }\n</style>\n<table border=\"1\" class=\"dataframe\">\n  <thead>\n    <tr style=\"text-align: right;\">\n      <th></th>\n      <th>age</th>\n      <th>balance</th>\n      <th>day</th>\n      <th>duration</th>\n      <th>campaign</th>\n      <th>pdays</th>\n      <th>previous</th>\n    </tr>\n  </thead>\n  <tbody>\n    <tr>\n      <th>count</th>\n      <td>45211.000000</td>\n      <td>45211.000000</td>\n      <td>45211.000000</td>\n      <td>45211.000000</td>\n      <td>45211.000000</td>\n      <td>45211.000000</td>\n      <td>45211.000000</td>\n    </tr>\n    <tr>\n      <th>mean</th>\n      <td>40.936210</td>\n      <td>1362.272058</td>\n      <td>15.806419</td>\n      <td>258.163080</td>\n      <td>2.763841</td>\n      <td>40.197828</td>\n      <td>0.580323</td>\n    </tr>\n    <tr>\n      <th>std</th>\n      <td>10.618762</td>\n      <td>3044.765829</td>\n      <td>8.322476</td>\n      <td>257.527812</td>\n      <td>3.098021</td>\n      <td>100.128746</td>\n      <td>2.303441</td>\n    </tr>\n    <tr>\n      <th>min</th>\n      <td>18.000000</td>\n      <td>-8019.000000</td>\n      <td>1.000000</td>\n      <td>0.000000</td>\n      <td>1.000000</td>\n      <td>-1.000000</td>\n      <td>0.000000</td>\n    </tr>\n    <tr>\n      <th>25%</th>\n      <td>33.000000</td>\n      <td>72.000000</td>\n      <td>8.000000</td>\n      <td>103.000000</td>\n      <td>1.000000</td>\n      <td>-1.000000</td>\n      <td>0.000000</td>\n    </tr>\n    <tr>\n      <th>50%</th>\n      <td>39.000000</td>\n      <td>448.000000</td>\n      <td>16.000000</td>\n      <td>180.000000</td>\n      <td>2.000000</td>\n      <td>-1.000000</td>\n      <td>0.000000</td>\n    </tr>\n    <tr>\n      <th>75%</th>\n      <td>48.000000</td>\n      <td>1428.000000</td>\n      <td>21.000000</td>\n      <td>319.000000</td>\n      <td>3.000000</td>\n      <td>-1.000000</td>\n      <td>0.000000</td>\n    </tr>\n    <tr>\n      <th>max</th>\n      <td>95.000000</td>\n      <td>102127.000000</td>\n      <td>31.000000</td>\n      <td>4918.000000</td>\n      <td>63.000000</td>\n      <td>871.000000</td>\n      <td>275.000000</td>\n    </tr>\n  </tbody>\n</table>\n</div>"
     },
     "execution_count": 292,
     "metadata": {},
     "output_type": "execute_result"
    }
   ],
   "source": [
    "full_bank.describe()"
   ]
  },
  {
   "cell_type": "code",
   "execution_count": 293,
   "id": "e506e249",
   "metadata": {
    "pycharm": {
     "name": "#%%\n"
    }
   },
   "outputs": [
    {
     "data": {
      "text/plain": "age          0\njob          0\nmarital      0\neducation    0\ndefault      0\nbalance      0\nhousing      0\nloan         0\ncontact      0\nday          0\nmonth        0\nduration     0\ncampaign     0\npdays        0\nprevious     0\npoutcome     0\ny            0\ndtype: int64"
     },
     "execution_count": 293,
     "metadata": {},
     "output_type": "execute_result"
    }
   ],
   "source": [
    "full_bank.isnull().sum()"
   ]
  },
  {
   "cell_type": "code",
   "execution_count": 293,
   "id": "870b7a5d",
   "metadata": {
    "pycharm": {
     "name": "#%%\n"
    }
   },
   "outputs": [],
   "source": []
  },
  {
   "cell_type": "code",
   "execution_count": 294,
   "id": "7827dcf9",
   "metadata": {
    "pycharm": {
     "name": "#%%\n"
    }
   },
   "outputs": [
    {
     "name": "stdout",
     "output_type": "stream",
     "text": [
      "Full Bank Data has a total of '17' coloumns from which the '0' coloumns are having missing values.\n"
     ]
    }
   ],
   "source": [
    "def nullVal(full_bank):\n",
    "    missing_num = full_bank.isnull().sum()\n",
    "    missing_percent = (100 * missing_num / len(full_bank))\n",
    "    concatinated_value = pan.concat([missing_num, missing_percent], axis = 1)\n",
    "\n",
    "    missing = concatinated_value.rename(columns = {0:\"Missing \", 1:\"Percent of Missing Values\"})\n",
    "    in_sorted_order = missing[missing.iloc[:,1]!=0].sort_values(by= 'Percent of Missing Values', ascending = False).round(1)\n",
    "    print(\"Full Bank Data has a total of '{}' coloumns from which the '{}' coloumns are having missing values.\".format(full_bank.shape[1],in_sorted_order.shape[0]))\n",
    "    return in_sorted_order\n",
    "missing_num = nullVal(full_bank)"
   ]
  },
  {
   "cell_type": "code",
   "execution_count": 295,
   "id": "3f89bc3f",
   "metadata": {
    "pycharm": {
     "name": "#%%\n"
    }
   },
   "outputs": [
    {
     "data": {
      "text/plain": "<AxesSubplot:>"
     },
     "execution_count": 295,
     "metadata": {},
     "output_type": "execute_result"
    },
    {
     "data": {
      "text/plain": "<Figure size 432x288 with 1 Axes>",
      "image/png": "[encoded data removed]"
     },
     "metadata": {
      "needs_background": "light"
     },
     "output_type": "display_data"
    }
   ],
   "source": [
    "sea.heatmap(full_bank.isnull(), yticklabels = False, cbar = False, cmap = 'viridis')"
   ]
  },
  {
   "cell_type": "markdown",
   "id": "e96ecd59",
   "metadata": {
    "pycharm": {
     "name": "#%% md\n"
    }
   },
   "source": [
    "# Data preprocessing"
   ]
  },
  {
   "cell_type": "code",
   "execution_count": 296,
   "id": "4f685d67",
   "metadata": {
    "pycharm": {
     "name": "#%%\n"
    }
   },
   "outputs": [
    {
     "name": "stdout",
     "output_type": "stream",
     "text": [
      "default\n",
      "housing\n",
      "loan\n",
      "y\n"
     ]
    }
   ],
   "source": [
    "c = 0;\n",
    "\n",
    "for col in full_bank:\n",
    "    if full_bank[col].dtype == 'object':\n",
    "        if len(list(full_bank[col].unique())) <= 2:\n",
    "            l = preprocessing.LabelEncoder()\n",
    "            full_bank[col] = l.fit_transform(full_bank[col])\n",
    "            c = c + 1;\n",
    "            print(col)"
   ]
  },
  {
   "cell_type": "code",
   "execution_count": 297,
   "id": "20802e01",
   "metadata": {
    "pycharm": {
     "name": "#%%\n"
    }
   },
   "outputs": [
    {
     "data": {
      "text/plain": "(45211, 17)"
     },
     "execution_count": 297,
     "metadata": {},
     "output_type": "execute_result"
    }
   ],
   "source": [
    "\n",
    "full_bank.shape"
   ]
  },
  {
   "cell_type": "code",
   "execution_count": 298,
   "id": "5df61079",
   "metadata": {
    "pycharm": {
     "name": "#%%\n"
    }
   },
   "outputs": [
    {
     "data": {
      "text/plain": "(45211, 49)"
     },
     "execution_count": 298,
     "metadata": {},
     "output_type": "execute_result"
    }
   ],
   "source": [
    "full_bank = pan.get_dummies(full_bank)\n",
    "full_bank.shape"
   ]
  },
  {
   "cell_type": "code",
   "execution_count": 299,
   "id": "747d3265",
   "metadata": {
    "pycharm": {
     "name": "#%%\n"
    }
   },
   "outputs": [
    {
     "data": {
      "text/plain": "1    25130\n0    20081\nName: housing, dtype: int64"
     },
     "execution_count": 299,
     "metadata": {},
     "output_type": "execute_result"
    }
   ],
   "source": [
    "full_bank['housing'].value_counts()\n"
   ]
  },
  {
   "cell_type": "code",
   "execution_count": 300,
   "id": "b89df064",
   "metadata": {
    "pycharm": {
     "name": "#%%\n"
    }
   },
   "outputs": [
    {
     "data": {
      "text/plain": "0    37967\n1     7244\nName: loan, dtype: int64"
     },
     "execution_count": 300,
     "metadata": {},
     "output_type": "execute_result"
    }
   ],
   "source": [
    "full_bank['loan'].value_counts()"
   ]
  },
  {
   "cell_type": "code",
   "execution_count": 301,
   "id": "0deca32c",
   "metadata": {
    "pycharm": {
     "name": "#%%\n"
    }
   },
   "outputs": [
    {
     "data": {
      "text/plain": "0    39922\n1     5289\nName: y, dtype: int64"
     },
     "execution_count": 301,
     "metadata": {},
     "output_type": "execute_result"
    }
   ],
   "source": [
    "full_bank['y'].value_counts()"
   ]
  },
  {
   "cell_type": "raw",
   "id": "1fcfb2c0",
   "metadata": {
    "pycharm": {
     "name": "#%% raw\n"
    }
   },
   "source": [
    "The Modeling"
   ]
  },
  {
   "cell_type": "markdown",
   "id": "97f4aa3d",
   "metadata": {
    "pycharm": {
     "name": "#%% md\n"
    }
   },
   "source": [
    "Writing the method for the Classification report result, and the matrix."
   ]
  },
  {
   "cell_type": "code",
   "execution_count": 302,
   "id": "8b8a6883",
   "metadata": {
    "pycharm": {
     "name": "#%%\n"
    }
   },
   "outputs": [],
   "source": [
    "\n",
    "\n",
    "def print_score(classification, X_train, y_train, X_test, y_test, train=True):\n",
    "    if train:\n",
    "        print(\"Train Result:\\n\")\n",
    "        print(\"Accuracy score: {0:.4f}\\n\".format(accuracy_score(y_train,classification.predict(X_train))))\n",
    "        print(\"Classification Report: \\n {}\\n\".format(classification_report(y_train, classification.predict(X_train))))\n",
    "        print(\"Confusion Matrix: \\n {}\\n\".format(confusion_matrix(y_train, classification.predict(X_train))))\n",
    "\n",
    "        res = cross_val_score(classification, X_train, y_train, cv=10, scoring='accuracy')\n",
    "        print(\"Average Accuracy: \\t {0:.4f}\".format(npy.mean(res)))\n",
    "        print(\"Accuracy SD: \\t\\t {0:.4f}\".format(npy.std(res)))\n",
    "\n",
    "    elif train==False:\n",
    "        print(\"Test Result:\\n\")\n",
    "        print(\"Accuracy score: {0:.4f}\\n\".format(accuracy_score(y_test,classification.predict(X_test))))\n",
    "        print(\"Classification Report: \\n {}\\n\".format(classification_report(y_test, classification.predict(X_test))))\n",
    "        print(\"Confusion Matrix: \\n {}\\n\".format(confusion_matrix(y_test,classification.predict(X_test))))"
   ]
  },
  {
   "cell_type": "code",
   "execution_count": 303,
   "id": "11ec7a7e",
   "metadata": {
    "pycharm": {
     "name": "#%%\n"
    }
   },
   "outputs": [],
   "source": [
    "X_train, X_test, y_train, y_test = train_test_split(full_bank.drop('y',axis=1),full_bank['y'],test_size=0.15,random_state=101)"
   ]
  },
  {
   "cell_type": "code",
   "execution_count": 304,
   "id": "7af922e6",
   "metadata": {
    "pycharm": {
     "name": "#%%\n"
    }
   },
   "outputs": [
    {
     "data": {
      "text/plain": "136"
     },
     "execution_count": 304,
     "metadata": {},
     "output_type": "execute_result"
    }
   ],
   "source": [
    "import  gc\n",
    "#garbage collector\n",
    "gc.collect()"
   ]
  },
  {
   "cell_type": "code",
   "execution_count": 305,
   "id": "bf5b11e7",
   "metadata": {
    "pycharm": {
     "name": "#%%\n"
    }
   },
   "outputs": [],
   "source": [
    "standarScaler = StandardScaler()\n",
    "X_train = standarScaler.fit_transform(X_train)\n",
    "X_test = standarScaler.transform(X_test)"
   ]
  },
  {
   "cell_type": "code",
   "execution_count": 306,
   "id": "e004e819",
   "metadata": {
    "pycharm": {
     "name": "#%%\n"
    }
   },
   "outputs": [],
   "source": [
    "smote = SMOTE(random_state=15, sampling_strategy= 1.0)\n",
    "x_train_right , y_train_right = smote.fit_resample(X_train,y_train)"
   ]
  },
  {
   "cell_type": "code",
   "execution_count": 307,
   "id": "34d60f09",
   "metadata": {
    "pycharm": {
     "name": "#%%\n"
    }
   },
   "outputs": [
    {
     "name": "stderr",
     "output_type": "stream",
     "text": [
      "/home/coder_me_ilyas/.local/lib/python3.8/site-packages/seaborn/_decorators.py:36: FutureWarning: Pass the following variable as a keyword arg: x. From version 0.12, the only valid positional argument will be `data`, and passing other arguments without an explicit keyword will result in an error or misinterpretation.\n",
      "  warnings.warn(\n"
     ]
    },
    {
     "data": {
      "text/plain": "<AxesSubplot:xlabel='y'>"
     },
     "execution_count": 307,
     "metadata": {},
     "output_type": "execute_result"
    },
    {
     "data": {
      "text/plain": "<Figure size 1440x1080 with 1 Axes>",
      "image/png": "[encoded data removed]"
     },
     "metadata": {
      "needs_background": "light"
     },
     "output_type": "display_data"
    }
   ],
   "source": [
    "matplt.figure(figsize =(20,15))\n",
    "sea.violinplot(y_train_right, palette = 'husl')"
   ]
  },
  {
   "cell_type": "code",
   "execution_count": 308,
   "id": "03636d01",
   "metadata": {
    "pycharm": {
     "name": "#%%\n"
    }
   },
   "outputs": [],
   "source": [
    "# let's try different modeling to get another result or best prediction result."
   ]
  },
  {
   "cell_type": "code",
   "execution_count": 309,
   "id": "8918431e",
   "metadata": {
    "pycharm": {
     "name": "#%%\n"
    }
   },
   "outputs": [
    {
     "data": {
      "text/plain": "LogisticRegression(C=0.0001, random_state=21)"
     },
     "execution_count": 309,
     "metadata": {},
     "output_type": "execute_result"
    }
   ],
   "source": [
    "logistic_reg = LogisticRegression( C = 0.0001, random_state=21)\n",
    "logistic_reg.fit(x_train_right,y_train_right)"
   ]
  },
  {
   "cell_type": "code",
   "execution_count": 310,
   "id": "c6f79f3f",
   "metadata": {
    "pycharm": {
     "name": "#%%\n"
    }
   },
   "outputs": [
    {
     "name": "stdout",
     "output_type": "stream",
     "text": [
      "Train Result:\n",
      "\n",
      "Accuracy score: 0.8367\n",
      "\n",
      "Classification Report: \n",
      "               precision    recall  f1-score   support\n",
      "\n",
      "           0       0.82      0.86      0.84     33954\n",
      "           1       0.85      0.81      0.83     33954\n",
      "\n",
      "    accuracy                           0.84     67908\n",
      "   macro avg       0.84      0.84      0.84     67908\n",
      "weighted avg       0.84      0.84      0.84     67908\n",
      "\n",
      "\n",
      "Confusion Matrix: \n",
      " [[29168  4786]\n",
      " [ 6302 27652]]\n",
      "\n",
      "Average Accuracy: \t 0.8357\n",
      "Accuracy SD: \t\t 0.0037\n"
     ]
    }
   ],
   "source": [
    "print_score(logistic_reg, x_train_right, y_train_right, X_test, y_test, train=True)"
   ]
  },
  {
   "cell_type": "code",
   "execution_count": 311,
   "id": "873a7c6d",
   "metadata": {
    "pycharm": {
     "name": "#%%\n"
    }
   },
   "outputs": [
    {
     "name": "stdout",
     "output_type": "stream",
     "text": [
      "Test Result:\n",
      "\n",
      "Accuracy score: 0.8508\n",
      "\n",
      "Classification Report: \n",
      "               precision    recall  f1-score   support\n",
      "\n",
      "           0       0.97      0.86      0.91      5968\n",
      "           1       0.43      0.79      0.56       814\n",
      "\n",
      "    accuracy                           0.85      6782\n",
      "   macro avg       0.70      0.82      0.73      6782\n",
      "weighted avg       0.90      0.85      0.87      6782\n",
      "\n",
      "\n",
      "Confusion Matrix: \n",
      " [[5128  840]\n",
      " [ 172  642]]\n",
      "\n"
     ]
    }
   ],
   "source": [
    "#Now let's set train = False, to see the result\n",
    "print_score(logistic_reg, x_train_right, y_train_right, X_test, y_test, train=False)"
   ]
  },
  {
   "cell_type": "code",
   "execution_count": 312,
   "id": "3f6a5efe",
   "metadata": {
    "pycharm": {
     "name": "#%%\n"
    }
   },
   "outputs": [
    {
     "data": {
      "text/plain": "RandomForestClassifier(n_estimators=40, random_state=21)"
     },
     "execution_count": 312,
     "metadata": {},
     "output_type": "execute_result"
    }
   ],
   "source": [
    "# Now we use RandomForestClassifier method to see the recall and precission difference\n",
    "\n",
    "classification_report_random_forest = RandomForestClassifier(n_estimators=40,random_state=21)\n",
    "classification_report_random_forest.fit(x_train_right,y_train_right)\n",
    "\n"
   ]
  },
  {
   "cell_type": "code",
   "execution_count": 313,
   "id": "00c23c51",
   "metadata": {
    "pycharm": {
     "name": "#%%\n"
    }
   },
   "outputs": [
    {
     "name": "stdout",
     "output_type": "stream",
     "text": [
      "Test Result:\n",
      "\n",
      "Accuracy score: 0.8972\n",
      "\n",
      "Classification Report: \n",
      "               precision    recall  f1-score   support\n",
      "\n",
      "           0       0.94      0.95      0.94      5968\n",
      "           1       0.58      0.54      0.56       814\n",
      "\n",
      "    accuracy                           0.90      6782\n",
      "   macro avg       0.76      0.74      0.75      6782\n",
      "weighted avg       0.89      0.90      0.90      6782\n",
      "\n",
      "\n",
      "Confusion Matrix: \n",
      " [[5644  324]\n",
      " [ 373  441]]\n",
      "\n"
     ]
    }
   ],
   "source": [
    "print_score(classification_report_random_forest,x_train_right,y_train_right, X_test,y_test, train= False)"
   ]
  },
  {
   "cell_type": "markdown",
   "id": "cb577d8a",
   "metadata": {
    "pycharm": {
     "name": "#%% md\n"
    }
   },
   "source": [
    "#Now we will use LightGBM as it was mentioned in the Recommendation part with Kfold cross\n",
    "#Validation"
   ]
  },
  {
   "cell_type": "code",
   "execution_count": 323,
   "id": "86005c41",
   "metadata": {
    "pycharm": {
     "name": "#%%\n"
    }
   },
   "outputs": [],
   "source": [
    "def kfold_lightGBM(train_df, num_folds, stratified = False):\n",
    "    print(\"Starting LightGBM. Train shape: {}\".format(train_df.shape))\n",
    "\n",
    "    # Cross validation model\n",
    "    if stratified:\n",
    "        folds = StratifiedKFold(n_splits= num_folds, shuffle=True, random_state=47)\n",
    "    else:\n",
    "        folds = KFold(n_splits= num_folds, shuffle=True, random_state=47)\n",
    "\n",
    "    oof_preds = npy.zeros(train_df.shape[0])\n",
    "\n",
    "    feature_importance_df = pan.DataFrame()\n",
    "    feats = [f for f in train_df.columns if f not in ['y']]\n",
    "\n",
    "    # Splitting the training set into folds for Cross Validation\n",
    "    for n_fold, (train_idx, valid_idx) in enumerate(folds.split(train_df[feats], train_df['y'])):\n",
    "        train_x, train_y = train_df[feats].iloc[train_idx], train_df['y'].iloc[train_idx]\n",
    "        valid_x, valid_y = train_df[feats].iloc[valid_idx], train_df['y'].iloc[valid_idx]\n",
    "\n",
    "        # LightGBM parameters found by Bayesian optimization\n",
    "        clf = LGBMClassifier(\n",
    "            nthread=4,n_estimators=10000,learning_rate=0.02,num_leaves=32,colsample_bytree=0.9497036,subsample=0.8715623,max_depth=8,reg_alpha=0.04,reg_lambda=0.073,min_split_gain=0.0222415,min_child_weight=40,silent=-1,verbose=-1,\n",
    "        )\n",
    "        # Fitting the model and evaluating by AUC\n",
    "        clf.fit(train_x, train_y, eval_set=[(train_x, train_y), (valid_x, valid_y)],\n",
    "                eval_metric= 'auc', verbose= 1000, early_stopping_rounds= 200)\n",
    "        print_score(clf, train_x, train_y, valid_x, valid_y, train=False)\n",
    "        # Dataframe holding the different features and their importance\n",
    "        fold_importance_df = pan.DataFrame()\n",
    "        fold_importance_df[\"feature\"] = feats\n",
    "        fold_importance_df[\"importance\"] = clf.feature_importances_\n",
    "        fold_importance_df[\"fold\"] = n_fold + 1\n",
    "        feature_importance_df = pan.concat([feature_importance_df, fold_importance_df], axis=0)\n",
    "\n",
    "        # Freeing up memory\n",
    "        del clf, train_x, train_y, valid_x, valid_y\n",
    "        gc.collect()\n",
    "\n",
    "    display_importances(feature_importance_df)\n",
    "    return feature_importance_df\n",
    "\n"
   ]
  },
  {
   "cell_type": "code",
   "execution_count": 325,
   "id": "c4a1d83b",
   "metadata": {
    "pycharm": {
     "name": "#%%\n"
    }
   },
   "outputs": [
    {
     "name": "stdout",
     "output_type": "stream",
     "text": [
      "Starting LightGBM. Train shape: (45211, 49)\n",
      "[LightGBM] [Warning] num_threads is set with nthread=4, will be overridden by n_jobs=-1. Current value: num_threads=-1\n"
     ]
    },
    {
     "name": "stderr",
     "output_type": "stream",
     "text": [
      "/home/coder_me_ilyas/.local/lib/python3.8/site-packages/lightgbm/sklearn.py:598: UserWarning: 'silent' argument is deprecated and will be removed in a future release of LightGBM. Pass 'verbose' parameter via keyword arguments instead.\n",
      "  _log_warning(\"'silent' argument is deprecated and will be removed in a future release of LightGBM. \"\n",
      "/home/coder_me_ilyas/.local/lib/python3.8/site-packages/lightgbm/sklearn.py:726: UserWarning: 'early_stopping_rounds' argument is deprecated and will be removed in a future release of LightGBM. Pass 'early_stopping()' callback via 'callbacks' argument instead.\n",
      "  _log_warning(\"'early_stopping_rounds' argument is deprecated and will be removed in a future release of LightGBM. \"\n",
      "/home/coder_me_ilyas/.local/lib/python3.8/site-packages/lightgbm/sklearn.py:736: UserWarning: 'verbose' argument is deprecated and will be removed in a future release of LightGBM. Pass 'log_evaluation()' callback via 'callbacks' argument instead.\n",
      "  _log_warning(\"'verbose' argument is deprecated and will be removed in a future release of LightGBM. \"\n"
     ]
    },
    {
     "name": "stdout",
     "output_type": "stream",
     "text": [
      "[1000]\ttraining's auc: 0.955806\ttraining's binary_logloss: 0.169114\tvalid_1's auc: 0.927529\tvalid_1's binary_logloss: 0.20478\n",
      "Test Result:\n",
      "\n",
      "Accuracy score: 0.9065\n",
      "\n",
      "Classification Report: \n",
      "               precision    recall  f1-score   support\n",
      "\n",
      "           0       0.93      0.96      0.95     19988\n",
      "           1       0.63      0.47      0.54      2618\n",
      "\n",
      "    accuracy                           0.91     22606\n",
      "   macro avg       0.78      0.72      0.74     22606\n",
      "weighted avg       0.90      0.91      0.90     22606\n",
      "\n",
      "\n",
      "Confusion Matrix: \n",
      " [[19272   716]\n",
      " [ 1397  1221]]\n",
      "\n"
     ]
    },
    {
     "name": "stderr",
     "output_type": "stream",
     "text": [
      "/home/coder_me_ilyas/.local/lib/python3.8/site-packages/lightgbm/sklearn.py:598: UserWarning: 'silent' argument is deprecated and will be removed in a future release of LightGBM. Pass 'verbose' parameter via keyword arguments instead.\n",
      "  _log_warning(\"'silent' argument is deprecated and will be removed in a future release of LightGBM. \"\n",
      "/home/coder_me_ilyas/.local/lib/python3.8/site-packages/lightgbm/sklearn.py:726: UserWarning: 'early_stopping_rounds' argument is deprecated and will be removed in a future release of LightGBM. Pass 'early_stopping()' callback via 'callbacks' argument instead.\n",
      "  _log_warning(\"'early_stopping_rounds' argument is deprecated and will be removed in a future release of LightGBM. \"\n",
      "/home/coder_me_ilyas/.local/lib/python3.8/site-packages/lightgbm/sklearn.py:736: UserWarning: 'verbose' argument is deprecated and will be removed in a future release of LightGBM. Pass 'log_evaluation()' callback via 'callbacks' argument instead.\n",
      "  _log_warning(\"'verbose' argument is deprecated and will be removed in a future release of LightGBM. \"\n"
     ]
    },
    {
     "name": "stdout",
     "output_type": "stream",
     "text": [
      "[LightGBM] [Warning] num_threads is set with nthread=4, will be overridden by n_jobs=-1. Current value: num_threads=-1\n",
      "[1000]\ttraining's auc: 0.954669\ttraining's binary_logloss: 0.168889\tvalid_1's auc: 0.93165\tvalid_1's binary_logloss: 0.204391\n",
      "Test Result:\n",
      "\n",
      "Accuracy score: 0.9054\n",
      "\n",
      "Classification Report: \n",
      "               precision    recall  f1-score   support\n",
      "\n",
      "           0       0.93      0.96      0.95     19934\n",
      "           1       0.63      0.47      0.54      2671\n",
      "\n",
      "    accuracy                           0.91     22605\n",
      "   macro avg       0.78      0.72      0.74     22605\n",
      "weighted avg       0.90      0.91      0.90     22605\n",
      "\n",
      "\n",
      "Confusion Matrix: \n",
      " [[19211   723]\n",
      " [ 1415  1256]]\n",
      "\n"
     ]
    },
    {
     "data": {
      "text/plain": "<Figure size 1080x864 with 1 Axes>",
      "image/png": "[encoded data removed]"
     },
     "metadata": {
      "needs_background": "light"
     },
     "output_type": "display_data"
    }
   ],
   "source": [
    "def display_importances(feature_importance_df_):\n",
    "    cols = feature_importance_df_[[\"feature\", \"importance\"]].groupby(\"feature\").mean().sort_values(by=\"importance\", ascending=False)[:40].index\n",
    "    best_features = feature_importance_df_.loc[feature_importance_df_.feature.isin(cols)]\n",
    "    matplt.figure(figsize=(15, 12))\n",
    "    sea.boxenplot(x=\"importance\", y=\"feature\", data=best_features.sort_values(by=\"importance\", ascending=False))\n",
    "    matplt.title('LightGBM Features Average over folds', fontsize= 40)\n",
    "    matplt.tight_layout()\n",
    "    matplt.savefig('lgbm_importances.png')\n",
    "feat_importance = kfold_lightGBM(full_bank, num_folds= 2, stratified= False)"
   ]
  },
  {
   "cell_type": "markdown",
   "id": "22fbcf87",
   "metadata": {
    "pycharm": {
     "name": "#%% md\n"
    }
   },
   "source": [
    "### Light GBM has best Accuarcy model"
   ]
  },
  {
   "cell_type": "markdown",
   "id": "f8b4d616",
   "metadata": {},
   "source": []
  }
 ],
 "metadata": {
  "kernelspec": {
   "display_name": "Python 3 (ipykernel)",
   "language": "python",
   "name": "python3"
  },
  "language_info": {
   "codemirror_mode": {
    "name": "ipython",
    "version": 3
   },
   "file_extension": ".py",
   "mimetype": "text/x-python",
   "name": "python",
   "nbconvert_exporter": "python",
   "pygments_lexer": "ipython3",
   "version": "3.8.10"
  }
 },
 "nbformat": 4,
 "nbformat_minor": 5
}